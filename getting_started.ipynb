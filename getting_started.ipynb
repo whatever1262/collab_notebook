{
  "nbformat": 4,
  "nbformat_minor": 0,
  "metadata": {
    "colab": {
      "provenance": [],
      "authorship_tag": "ABX9TyPwg8TwSfAl/Z3bk4ilVyY8",
      "include_colab_link": true
    },
    "kernelspec": {
      "name": "python3",
      "display_name": "Python 3"
    },
    "language_info": {
      "name": "python"
    }
  },
  "cells": [
    {
      "cell_type": "markdown",
      "metadata": {
        "id": "view-in-github",
        "colab_type": "text"
      },
      "source": [
        "<a href=\"https://colab.research.google.com/github/whatever1262/collab_notebook/blob/main/getting_started.ipynb\" target=\"_parent\"><img src=\"https://colab.research.google.com/assets/colab-badge.svg\" alt=\"Open In Colab\"/></a>"
      ]
    },
    {
      "cell_type": "code",
      "execution_count": null,
      "metadata": {
        "colab": {
          "base_uri": "https://localhost:8080/",
          "height": 35
        },
        "id": "wfdEVcumysLT",
        "outputId": "56aad19b-5c97-4728-9035-66385ab9c3f6"
      },
      "outputs": [
        {
          "output_type": "execute_result",
          "data": {
            "text/plain": [
              "'This is a coding cell'"
            ],
            "application/vnd.google.colaboratory.intrinsic+json": {
              "type": "string"
            }
          },
          "metadata": {},
          "execution_count": 2
        }
      ],
      "source": [
        "\"This is a coding cell\""
      ]
    },
    {
      "cell_type": "code",
      "source": [
        "4 + 9"
      ],
      "metadata": {
        "colab": {
          "base_uri": "https://localhost:8080/"
        },
        "id": "vOgcq8Qty8OG",
        "outputId": "861d5394-294f-45fd-bb8d-d35d3133db8b"
      },
      "execution_count": null,
      "outputs": [
        {
          "output_type": "execute_result",
          "data": {
            "text/plain": [
              "13"
            ]
          },
          "metadata": {},
          "execution_count": 3
        }
      ]
    },
    {
      "cell_type": "code",
      "source": [
        "90 - 99\n"
      ],
      "metadata": {
        "colab": {
          "base_uri": "https://localhost:8080/"
        },
        "id": "puCNNnHZzSrh",
        "outputId": "c86e74e6-3e83-49f1-f72c-6f56e4925f12"
      },
      "execution_count": null,
      "outputs": [
        {
          "output_type": "execute_result",
          "data": {
            "text/plain": [
              "-9"
            ]
          },
          "metadata": {},
          "execution_count": 4
        }
      ]
    },
    {
      "cell_type": "code",
      "source": [
        "!ls"
      ],
      "metadata": {
        "colab": {
          "base_uri": "https://localhost:8080/"
        },
        "id": "cyb-Ly8rzoHS",
        "outputId": "cabb1e83-aa35-4234-ff9d-131103746a07"
      },
      "execution_count": null,
      "outputs": [
        {
          "output_type": "stream",
          "name": "stdout",
          "text": [
            "sample_data\n"
          ]
        }
      ]
    },
    {
      "cell_type": "code",
      "source": [
        "%timeit 4 + 9\n"
      ],
      "metadata": {
        "id": "CgtNuNKQzUXW",
        "colab": {
          "base_uri": "https://localhost:8080/"
        },
        "outputId": "e6149b4f-db8b-42c9-8d89-4944b79a93ee"
      },
      "execution_count": null,
      "outputs": [
        {
          "output_type": "stream",
          "name": "stdout",
          "text": [
            "13.8 ns ± 3.32 ns per loop (mean ± std. dev. of 7 runs, 100000000 loops each)\n"
          ]
        }
      ]
    },
    {
      "cell_type": "markdown",
      "source": [
        "This is normal text:\n",
        "#Heading\n",
        "**bold**\n",
        "\n",
        "1. testing\n",
        "\n"
      ],
      "metadata": {
        "id": "Bqm9g19Bxe6Y"
      }
    }
  ]
}