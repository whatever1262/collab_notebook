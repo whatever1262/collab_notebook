{
  "nbformat": 4,
  "nbformat_minor": 0,
  "metadata": {
    "colab": {
      "provenance": [],
      "authorship_tag": "ABX9TyPkT2r/vljb2wHarWy1yxe7",
      "include_colab_link": true
    },
    "kernelspec": {
      "name": "python3",
      "display_name": "Python 3"
    },
    "language_info": {
      "name": "python"
    }
  },
  "cells": [
    {
      "cell_type": "markdown",
      "metadata": {
        "id": "view-in-github",
        "colab_type": "text"
      },
      "source": [
        "<a href=\"https://colab.research.google.com/github/whatever1262/collab_notebook/blob/main/Variable.ipynb\" target=\"_parent\"><img src=\"https://colab.research.google.com/assets/colab-badge.svg\" alt=\"Open In Colab\"/></a>"
      ]
    },
    {
      "cell_type": "markdown",
      "source": [
        "Create a Variable\n"
      ],
      "metadata": {
        "id": "3huGsYGG3Qku"
      }
    },
    {
      "cell_type": "code",
      "source": [
        "variable_name = value"
      ],
      "metadata": {
        "id": "i6bIfEGg3WDz"
      },
      "execution_count": null,
      "outputs": []
    },
    {
      "cell_type": "code",
      "source": [
        "base_salary = 10000\n",
        "bonus = 5000\n",
        "bonus_rate = 0.1\n",
        "total_salary = base_salary + bonus\n",
        "print(total_salary)"
      ],
      "metadata": {
        "colab": {
          "base_uri": "https://localhost:8080/"
        },
        "id": "f5ispfdy3dnp",
        "outputId": "34d8b5da-fd43-4b30-97eb-c78518c554e3"
      },
      "execution_count": 2,
      "outputs": [
        {
          "output_type": "stream",
          "name": "stdout",
          "text": [
            "15000\n"
          ]
        }
      ]
    },
    {
      "cell_type": "code",
      "source": [
        "base_salary = 10000\n",
        "bonus_rate = 0.1  # Define bonus_rate here so it's available in the calculation\n",
        "total_salary = (base_salary)*(1+bonus_rate)\n",
        "print(total_salary)"
      ],
      "metadata": {
        "colab": {
          "base_uri": "https://localhost:8080/"
        },
        "id": "uLECvp154Gih",
        "outputId": "45e84ded-338e-46dd-a085-7d3784051df9"
      },
      "execution_count": 4,
      "outputs": [
        {
          "output_type": "stream",
          "name": "stdout",
          "text": [
            "11000.0\n"
          ]
        }
      ]
    },
    {
      "cell_type": "code",
      "source": [
        "job_id = 1262\n",
        "company_name = 'Wing Cambodia'\n",
        "job_title = 'Data Analyst'\n",
        "job_salary = 125000\n",
        "job_work_from_home = False"
      ],
      "metadata": {
        "id": "UW442YBB4S2P"
      },
      "execution_count": 6,
      "outputs": []
    },
    {
      "cell_type": "code",
      "source": [
        "print(\"Job ID:      \", job_id)\n",
        "print(\"Company Name:\", company_name)\n",
        "print(\"Job Title:   \", job_title)\n",
        "print(\"Salary:      \", job_salary)\n",
        "print(\"WFH:         \", job_work_from_home)"
      ],
      "metadata": {
        "colab": {
          "base_uri": "https://localhost:8080/"
        },
        "id": "IVdlba2t57cZ",
        "outputId": "73174dda-7c60-4b7c-f126-4787d4de190b"
      },
      "execution_count": 7,
      "outputs": [
        {
          "output_type": "stream",
          "name": "stdout",
          "text": [
            "Job ID:       1262\n",
            "Company Name: Wing Cambodia\n",
            "Job Title:    Data Analyst\n",
            "Salary:       125000\n",
            "WFH:          False\n"
          ]
        }
      ]
    },
    {
      "cell_type": "markdown",
      "source": [
        "We use \"def\" to easy call..."
      ],
      "metadata": {
        "id": "SArgLfuXcrlc"
      }
    },
    {
      "cell_type": "code",
      "source": [
        "def display_job_details(job_id, company_name, job_title, job_salary, job_work_from_home):\n",
        "    return print(f\"Job ID:      {job_id}\\nCompany Name: {company_name}\\nJob Title:   {job_title}\\nSalary:      {job_salary}\\nWFH:         {job_work_from_home}\")"
      ],
      "metadata": {
        "id": "qDr8L5STanfQ"
      },
      "execution_count": 8,
      "outputs": []
    },
    {
      "cell_type": "code",
      "source": [
        "display_job_details(job_id, company_name, job_title, job_salary, job_work_from_home)"
      ],
      "metadata": {
        "colab": {
          "base_uri": "https://localhost:8080/"
        },
        "id": "hVuDwoB1axb7",
        "outputId": "5cd91bb9-4cfe-423c-959d-43d2a19caa42"
      },
      "execution_count": 9,
      "outputs": [
        {
          "output_type": "stream",
          "name": "stdout",
          "text": [
            "Job ID:      1262\n",
            "Company Name: Wing Cambodia\n",
            "Job Title:   Data Analyst\n",
            "Salary:      125000\n",
            "WFH:         False\n"
          ]
        }
      ]
    }
  ]
}