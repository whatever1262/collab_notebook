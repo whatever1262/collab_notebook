{
  "nbformat": 4,
  "nbformat_minor": 0,
  "metadata": {
    "colab": {
      "provenance": [],
      "authorship_tag": "ABX9TyPel4inUYejwBQDLYzFKwig",
      "include_colab_link": true
    },
    "kernelspec": {
      "name": "python3",
      "display_name": "Python 3"
    },
    "language_info": {
      "name": "python"
    }
  },
  "cells": [
    {
      "cell_type": "markdown",
      "metadata": {
        "id": "view-in-github",
        "colab_type": "text"
      },
      "source": [
        "<a href=\"https://colab.research.google.com/github/whatever1262/collab_notebook/blob/main/Data_Types.ipynb\" target=\"_parent\"><img src=\"https://colab.research.google.com/assets/colab-badge.svg\" alt=\"Open In Colab\"/></a>"
      ]
    },
    {
      "cell_type": "markdown",
      "source": [
        "**What are data types?**\n",
        "\n",
        "- Python can store data of different types.\n",
        "- These types can do different things."
      ],
      "metadata": {
        "id": "CIzg9wEO59aD"
      }
    },
    {
      "cell_type": "code",
      "execution_count": 2,
      "metadata": {
        "colab": {
          "base_uri": "https://localhost:8080/"
        },
        "id": "LoT8uZDF5Flz",
        "outputId": "59a87230-9dc7-4ced-9b32-9add4252bbb3"
      },
      "outputs": [
        {
          "output_type": "execute_result",
          "data": {
            "text/plain": [
              "120000"
            ]
          },
          "metadata": {},
          "execution_count": 2
        }
      ],
      "source": [
        "total_salary = 110000\n",
        "bonus_salary = 10000\n",
        "total_salary + bonus_salary"
      ]
    },
    {
      "cell_type": "markdown",
      "source": [],
      "metadata": {
        "id": "7MCt-MxM58Xn"
      }
    },
    {
      "cell_type": "code",
      "source": [
        "minus = total_salary - bonus_salary\n",
        "minus\n"
      ],
      "metadata": {
        "colab": {
          "base_uri": "https://localhost:8080/"
        },
        "id": "FZU5J_jK5ffC",
        "outputId": "78933b73-f7df-447c-9031-f93725c6eb9e"
      },
      "execution_count": 3,
      "outputs": [
        {
          "output_type": "execute_result",
          "data": {
            "text/plain": [
              "100000"
            ]
          },
          "metadata": {},
          "execution_count": 3
        }
      ]
    },
    {
      "cell_type": "code",
      "source": [
        "job_id = 102\n",
        "company_name = 'Data Nerd, Inc.'\n",
        "job_title = 'Data Scientist'\n",
        "salary_rate = 170000.00\n",
        "job_work_from_home = True"
      ],
      "metadata": {
        "id": "-8LNG8rf9yK4"
      },
      "execution_count": 4,
      "outputs": []
    },
    {
      "cell_type": "code",
      "source": [
        "# Check data types\n",
        "print(type(job_id))\n",
        "print(type(company_name))\n",
        "print(type(job_title))\n",
        "print(type(salary_rate))\n",
        "print(type(job_work_from_home))"
      ],
      "metadata": {
        "colab": {
          "base_uri": "https://localhost:8080/"
        },
        "id": "bKrJep7b_it3",
        "outputId": "cfea08ce-924b-4603-eeca-f59120d7d93e"
      },
      "execution_count": 5,
      "outputs": [
        {
          "output_type": "stream",
          "name": "stdout",
          "text": [
            "<class 'int'>\n",
            "<class 'str'>\n",
            "<class 'str'>\n",
            "<class 'float'>\n",
            "<class 'bool'>\n"
          ]
        }
      ]
    }
  ]
}