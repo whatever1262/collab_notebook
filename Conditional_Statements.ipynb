{
  "nbformat": 4,
  "nbformat_minor": 0,
  "metadata": {
    "colab": {
      "provenance": [],
      "authorship_tag": "ABX9TyO4X3Vfaer8KG4TDBrca1sh",
      "include_colab_link": true
    },
    "kernelspec": {
      "name": "python3",
      "display_name": "Python 3"
    },
    "language_info": {
      "name": "python"
    }
  },
  "cells": [
    {
      "cell_type": "markdown",
      "metadata": {
        "id": "view-in-github",
        "colab_type": "text"
      },
      "source": [
        "<a href=\"https://colab.research.google.com/github/whatever1262/collab_notebook/blob/main/Conditional_Statements.ipynb\" target=\"_parent\"><img src=\"https://colab.research.google.com/assets/colab-badge.svg\" alt=\"Open In Colab\"/></a>"
      ]
    },
    {
      "cell_type": "code",
      "execution_count": 10,
      "metadata": {
        "colab": {
          "base_uri": "https://localhost:8080/"
        },
        "id": "E6he-l6LcC8o",
        "outputId": "b420fbae-7c53-4dc9-d76b-0787a3612878"
      },
      "outputs": [
        {
          "output_type": "stream",
          "name": "stdout",
          "text": [
            "What's up guys?\n"
          ]
        }
      ],
      "source": [
        "if True:\n",
        "    print(\"What's up guys?\")"
      ]
    },
    {
      "cell_type": "code",
      "source": [
        "if False:\n",
        "    print(\"Hey hey hey!!\")\n",
        "else:\n",
        "    print(\"what's going on?\")"
      ],
      "metadata": {
        "colab": {
          "base_uri": "https://localhost:8080/"
        },
        "id": "uWjD2QBj0z1j",
        "outputId": "b43604aa-bf88-4d0c-a696-13120d980bbd"
      },
      "execution_count": 11,
      "outputs": [
        {
          "output_type": "stream",
          "name": "stdout",
          "text": [
            "what's going on?\n"
          ]
        }
      ]
    },
    {
      "cell_type": "markdown",
      "source": [
        "First we will define a few variables:"
      ],
      "metadata": {
        "id": "8xaVcPAP1mle"
      }
    },
    {
      "cell_type": "code",
      "source": [
        "#Applicant skill\n",
        "applicant_skill = 'SQL'\n",
        "\n",
        "#Years of experience\n",
        "years_experience = 8\n",
        "\n",
        "#Skill required for job posting\n",
        "job_skill = 'SQL'\n",
        "\n",
        "#Initialize result: assigning a default value to indicate the search status for the skill.\n",
        "result = 'No Skills Match'\n"
      ],
      "metadata": {
        "id": "dUhaoCI_2ClJ"
      },
      "execution_count": 19,
      "outputs": []
    },
    {
      "cell_type": "code",
      "source": [
        "#Check if the desired applicant skill matches the required skill for the job.\n",
        "if applicant_skill == job_skill:\n",
        "    result = 'Skills Match'\n",
        "\n",
        "result"
      ],
      "metadata": {
        "colab": {
          "base_uri": "https://localhost:8080/",
          "height": 35
        },
        "id": "ZwCUvOwa3LT4",
        "outputId": "9f68f3cb-8beb-4b9f-a2f8-737a4fbee40f"
      },
      "execution_count": 17,
      "outputs": [
        {
          "output_type": "execute_result",
          "data": {
            "text/plain": [
              "'Skills Match'"
            ],
            "application/vnd.google.colaboratory.intrinsic+json": {
              "type": "string"
            }
          },
          "metadata": {},
          "execution_count": 17
        }
      ]
    },
    {
      "cell_type": "code",
      "source": [],
      "metadata": {
        "id": "bbaoodDS57Gv"
      },
      "execution_count": 13,
      "outputs": []
    },
    {
      "cell_type": "markdown",
      "source": [
        "**If, Elif, Else**\n",
        "\n",
        "we can use these all tgt.\n",
        "You can also have logical operators (e.g. *and, or, not*) which are used to combine conditional statements."
      ],
      "metadata": {
        "id": "9C0hcP6O5hnY"
      }
    },
    {
      "cell_type": "markdown",
      "source": [
        "🪲 Debugging\n",
        "This is an intentional mistake\n",
        "\n",
        "Error: Misspelled the variable job_skill in the if statement.\n",
        "\n",
        "if applicant_skill != job_skil:\n",
        "Steps to Debug:\n",
        "\n",
        "1. Look at the actual error, can you\n",
        "2. tell what the problem is?\n",
        "3. If not, then look it up:\n",
        "  Use a chatbot like ChatGPT or Claude\n",
        "4. Look it up using Google"
      ],
      "metadata": {
        "id": "odwDKpUG6YK6"
      }
    },
    {
      "cell_type": "code",
      "source": [
        "# check if the applicant's skill matches the required skill of the job posting and they meet the experience requirement.\n",
        "\n",
        "if applicant_skill != job_skill:\n",
        "    result = 'Skills still needed'\n",
        "elif applicant_skill == job_skill and years_experience < 2:\n",
        "    result = 'More experience needed'\n",
        "else:\n",
        "    result = 'Skills Match'\n",
        "\n",
        "# print the result\n",
        "result"
      ],
      "metadata": {
        "colab": {
          "base_uri": "https://localhost:8080/",
          "height": 35
        },
        "id": "tHUm4Gzb7HoB",
        "outputId": "69f4bb0a-daec-4b5f-d423-cc84bc258108"
      },
      "execution_count": 20,
      "outputs": [
        {
          "output_type": "execute_result",
          "data": {
            "text/plain": [
              "'Skills Match'"
            ],
            "application/vnd.google.colaboratory.intrinsic+json": {
              "type": "string"
            }
          },
          "metadata": {},
          "execution_count": 20
        }
      ]
    },
    {
      "cell_type": "code",
      "source": [
        "years_experience = 7\n",
        "\n",
        "if applicant_skill == job_skill and years_experience < 2:\n",
        "    result = 'Junior Data Analyst position.'\n",
        "elif applicant_skill == job_skill and years_experience >= 2:\n",
        "    result = 'Senior Data Analyst position.'\n",
        "else:\n",
        "    result = 'Skills still needed'\n",
        "\n",
        "result"
      ],
      "metadata": {
        "colab": {
          "base_uri": "https://localhost:8080/",
          "height": 35
        },
        "id": "FI3DqVFx8IUH",
        "outputId": "a62be810-496f-4314-abf4-1a2fe9e652a2"
      },
      "execution_count": 21,
      "outputs": [
        {
          "output_type": "execute_result",
          "data": {
            "text/plain": [
              "'Senior Data Analyst position.'"
            ],
            "application/vnd.google.colaboratory.intrinsic+json": {
              "type": "string"
            }
          },
          "metadata": {},
          "execution_count": 21
        }
      ]
    },
    {
      "cell_type": "markdown",
      "source": [
        "**PASS**\n",
        "\n",
        "Notes: if statements can't be empty, but if you have an *if* statement with nothing in it, you can use * pass* to avoid getting an error."
      ],
      "metadata": {
        "id": "MoI2TwT19EuF"
      }
    },
    {
      "cell_type": "code",
      "source": [
        "if applicant_skill != job_skill:\n",
        "  pass"
      ],
      "metadata": {
        "id": "7ENv4TtS9201"
      },
      "execution_count": 26,
      "outputs": []
    },
    {
      "cell_type": "code",
      "source": [
        "if applicant_skill != job_skill:\n",
        ""
      ],
      "metadata": {
        "colab": {
          "base_uri": "https://localhost:8080/",
          "height": 108
        },
        "id": "EMUdyEpp-AYX",
        "outputId": "f6898abb-b723-462d-de38-c5d7ae0d3892"
      },
      "execution_count": 25,
      "outputs": [
        {
          "output_type": "error",
          "ename": "SyntaxError",
          "evalue": "incomplete input (<ipython-input-25-61f891c5f720>, line 2)",
          "traceback": [
            "\u001b[0;36m  File \u001b[0;32m\"<ipython-input-25-61f891c5f720>\"\u001b[0;36m, line \u001b[0;32m2\u001b[0m\n\u001b[0;31m    \u001b[0m\n\u001b[0m    ^\u001b[0m\n\u001b[0;31mSyntaxError\u001b[0m\u001b[0;31m:\u001b[0m incomplete input\n"
          ]
        }
      ]
    }
  ]
}