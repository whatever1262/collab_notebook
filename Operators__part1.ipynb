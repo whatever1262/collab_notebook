{
  "nbformat": 4,
  "nbformat_minor": 0,
  "metadata": {
    "colab": {
      "provenance": [],
      "authorship_tag": "ABX9TyN9eiONE8HqA9xW4Y/eZ9Ye",
      "include_colab_link": true
    },
    "kernelspec": {
      "name": "python3",
      "display_name": "Python 3"
    },
    "language_info": {
      "name": "python"
    }
  },
  "cells": [
    {
      "cell_type": "markdown",
      "metadata": {
        "id": "view-in-github",
        "colab_type": "text"
      },
      "source": [
        "<a href=\"https://colab.research.google.com/github/whatever1262/collab_notebook/blob/main/Operators__part1.ipynb\" target=\"_parent\"><img src=\"https://colab.research.google.com/assets/colab-badge.svg\" alt=\"Open In Colab\"/></a>"
      ]
    },
    {
      "cell_type": "markdown",
      "source": [
        "**Notes**\n",
        "Operators are used to perform operators on variables and values.\n",
        "\n",
        "In this notebook, we'll go over the following operators groups:\n",
        "\n",
        "  - Arithmetic operators\n",
        "  - Assignment operators\n",
        "  - Comparison operators\n",
        "\n",
        "\n",
        "**Importance**\n",
        "Arithmetic operators are essential for calculations, assignment operators for updating data, and comparison operators for filtering, all crucial for data analysis in libraries like Pandas and Matplotlib."
      ],
      "metadata": {
        "id": "5wt72pcXcuTr"
      }
    },
    {
      "cell_type": "code",
      "source": [
        "#some operations can be performed on non-numeric values\n",
        "\"What's up? \" * 10"
      ],
      "metadata": {
        "colab": {
          "base_uri": "https://localhost:8080/",
          "height": 53
        },
        "id": "ctwDIcimoQXz",
        "outputId": "1a142acf-6ab4-4574-ce3c-8b5b7b33b1eb"
      },
      "execution_count": 2,
      "outputs": [
        {
          "output_type": "execute_result",
          "data": {
            "text/plain": [
              "\"What's up? What's up? What's up? What's up? What's up? What's up? What's up? What's up? What's up? What's up? \""
            ],
            "application/vnd.google.colaboratory.intrinsic+json": {
              "type": "string"
            }
          },
          "metadata": {},
          "execution_count": 2
        }
      ]
    },
    {
      "cell_type": "code",
      "source": [
        "\"What's \".__add__(\"up?\") #. __add__ is the magic method for the + operator"
      ],
      "metadata": {
        "colab": {
          "base_uri": "https://localhost:8080/",
          "height": 35
        },
        "id": "90H37Lf1ozK8",
        "outputId": "c399895a-653a-41a8-9be8-ac0a6678d78f"
      },
      "execution_count": 3,
      "outputs": [
        {
          "output_type": "execute_result",
          "data": {
            "text/plain": [
              "\"What's up?\""
            ],
            "application/vnd.google.colaboratory.intrinsic+json": {
              "type": "string"
            }
          },
          "metadata": {},
          "execution_count": 3
        }
      ]
    },
    {
      "cell_type": "code",
      "source": [
        "#Numbers: But let's actually talk about the stuff you came here for\n",
        "4 + 4"
      ],
      "metadata": {
        "colab": {
          "base_uri": "https://localhost:8080/"
        },
        "id": "P2MQOxKipClp",
        "outputId": "585d0d3f-eb96-4e4a-8914-04e076a54cb0"
      },
      "execution_count": 4,
      "outputs": [
        {
          "output_type": "execute_result",
          "data": {
            "text/plain": [
              "8"
            ]
          },
          "metadata": {},
          "execution_count": 4
        }
      ]
    },
    {
      "cell_type": "code",
      "source": [
        "#floor division\n",
        "5//2"
      ],
      "metadata": {
        "colab": {
          "base_uri": "https://localhost:8080/"
        },
        "id": "dP9ipBWPpO5w",
        "outputId": "c2279195-a505-46ed-a320-71e0ebc17b23"
      },
      "execution_count": 5,
      "outputs": [
        {
          "output_type": "execute_result",
          "data": {
            "text/plain": [
              "2"
            ]
          },
          "metadata": {},
          "execution_count": 5
        }
      ]
    },
    {
      "cell_type": "code",
      "source": [
        "5%2 #remainder of 5 divided by 2"
      ],
      "metadata": {
        "colab": {
          "base_uri": "https://localhost:8080/"
        },
        "id": "64mCl5GqpT4y",
        "outputId": "1452b8c0-610a-463c-b394-c99d282ddd4c"
      },
      "execution_count": 6,
      "outputs": [
        {
          "output_type": "execute_result",
          "data": {
            "text/plain": [
              "1"
            ]
          },
          "metadata": {},
          "execution_count": 6
        }
      ]
    },
    {
      "cell_type": "code",
      "source": [
        "print(\"5 divided by 2 is\", 5//2, \"with a ramainder of\", 5%2)\n"
      ],
      "metadata": {
        "colab": {
          "base_uri": "https://localhost:8080/"
        },
        "id": "m-YwrPiYpbGm",
        "outputId": "ca0d9330-f710-4eb8-fdca-39508264652a"
      },
      "execution_count": 7,
      "outputs": [
        {
          "output_type": "stream",
          "name": "stdout",
          "text": [
            "5 divided by 2 is 2 with a ramainder of 1\n"
          ]
        }
      ]
    },
    {
      "cell_type": "code",
      "source": [
        "min_salary = 20000\n",
        "max_salary = 30000\n",
        "\n",
        "average_salary = (min_salary + max_salary)/2\n",
        "average_salary\n"
      ],
      "metadata": {
        "colab": {
          "base_uri": "https://localhost:8080/"
        },
        "id": "EOIW-jFJpnvy",
        "outputId": "0143cb56-b60e-40be-e1bc-6e32864499fc"
      },
      "execution_count": 8,
      "outputs": [
        {
          "output_type": "execute_result",
          "data": {
            "text/plain": [
              "25000.0"
            ]
          },
          "metadata": {},
          "execution_count": 8
        }
      ]
    },
    {
      "cell_type": "markdown",
      "source": [
        "**Assignment Operators**\n",
        "\n",
        "Assignment operators are used to assign values to variables."
      ],
      "metadata": {
        "id": "Kr_Fev9AqbMb"
      }
    },
    {
      "cell_type": "code",
      "source": [
        "x  = 10\n",
        "y = 12\n",
        "\n",
        "x, y = y, x #swap values\n",
        "\n",
        "print(\"x is now: \", x)\n",
        "print(\"y is now \", y)"
      ],
      "metadata": {
        "colab": {
          "base_uri": "https://localhost:8080/"
        },
        "id": "z34kX6kUrt7R",
        "outputId": "877bd5ea-e4c9-4841-ecbc-147cf20117de"
      },
      "execution_count": 9,
      "outputs": [
        {
          "output_type": "stream",
          "name": "stdout",
          "text": [
            "x is now:  12\n",
            "y is now  10\n"
          ]
        }
      ]
    },
    {
      "cell_type": "code",
      "source": [
        "#add and assign\n",
        "x = 1\n",
        "x = x + 1 # not pythonic\n",
        "x"
      ],
      "metadata": {
        "colab": {
          "base_uri": "https://localhost:8080/"
        },
        "id": "Juv2vgH8viDb",
        "outputId": "30923c60-1b1c-4978-c441-813f04292458"
      },
      "execution_count": 10,
      "outputs": [
        {
          "output_type": "execute_result",
          "data": {
            "text/plain": [
              "2"
            ]
          },
          "metadata": {},
          "execution_count": 10
        }
      ]
    },
    {
      "cell_type": "code",
      "source": [
        "x = 1\n",
        "x += 1 #pythonic\n",
        "x"
      ],
      "metadata": {
        "colab": {
          "base_uri": "https://localhost:8080/"
        },
        "id": "hyFDLg_-vo1f",
        "outputId": "4198b7bd-dbb1-4b40-9c16-ac7809ea1791"
      },
      "execution_count": 11,
      "outputs": [
        {
          "output_type": "execute_result",
          "data": {
            "text/plain": [
              "2"
            ]
          },
          "metadata": {},
          "execution_count": 11
        }
      ]
    },
    {
      "cell_type": "markdown",
      "source": [
        "**Comparison Operators**\n",
        "Comparison operators compare two values and determine the rerlation between them."
      ],
      "metadata": {
        "id": "buHWJnStwP0c"
      }
    },
    {
      "cell_type": "code",
      "source": [
        "1 == 1 # evaluates to True or False"
      ],
      "metadata": {
        "colab": {
          "base_uri": "https://localhost:8080/"
        },
        "id": "ohvM0FflwfQN",
        "outputId": "7f58236f-27c5-47cf-b429-244ec9db78df"
      },
      "execution_count": 13,
      "outputs": [
        {
          "output_type": "execute_result",
          "data": {
            "text/plain": [
              "True"
            ]
          },
          "metadata": {},
          "execution_count": 13
        }
      ]
    },
    {
      "cell_type": "code",
      "source": [
        "1 == 3"
      ],
      "metadata": {
        "colab": {
          "base_uri": "https://localhost:8080/"
        },
        "id": "81ZR_9PuwgTT",
        "outputId": "e1e04d11-45c9-4467-83cd-aa1dabb21f1d"
      },
      "execution_count": 14,
      "outputs": [
        {
          "output_type": "execute_result",
          "data": {
            "text/plain": [
              "False"
            ]
          },
          "metadata": {},
          "execution_count": 14
        }
      ]
    },
    {
      "cell_type": "code",
      "source": [
        "salary_kai = 50_000\n",
        "salary_alex = 70_000\n",
        "\n",
        "salary_checker = (salary_kai == salary_alex)\n",
        "salary_checker"
      ],
      "metadata": {
        "colab": {
          "base_uri": "https://localhost:8080/"
        },
        "id": "_4FO983uwlIw",
        "outputId": "2b33c1ef-9f8c-4681-b855-0c9da3f1cd9d"
      },
      "execution_count": 16,
      "outputs": [
        {
          "output_type": "execute_result",
          "data": {
            "text/plain": [
              "False"
            ]
          },
          "metadata": {},
          "execution_count": 16
        }
      ]
    },
    {
      "cell_type": "code",
      "source": [
        "type(salary_checker)"
      ],
      "metadata": {
        "colab": {
          "base_uri": "https://localhost:8080/"
        },
        "id": "bKFQIZwuw5cx",
        "outputId": "404b2909-5385-481a-9c02-c1573f2e5e70"
      },
      "execution_count": 17,
      "outputs": [
        {
          "output_type": "execute_result",
          "data": {
            "text/plain": [
              "bool"
            ]
          },
          "metadata": {},
          "execution_count": 17
        }
      ]
    }
  ]
}