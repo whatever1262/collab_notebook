{
  "nbformat": 4,
  "nbformat_minor": 0,
  "metadata": {
    "colab": {
      "provenance": [],
      "authorship_tag": "ABX9TyMu/Ps0rBqdfaqbc+XL826Z",
      "include_colab_link": true
    },
    "kernelspec": {
      "name": "python3",
      "display_name": "Python 3"
    },
    "language_info": {
      "name": "python"
    }
  },
  "cells": [
    {
      "cell_type": "markdown",
      "metadata": {
        "id": "view-in-github",
        "colab_type": "text"
      },
      "source": [
        "<a href=\"https://colab.research.google.com/github/whatever1262/collab_notebook/blob/main/String_Formatting.ipynb\" target=\"_parent\"><img src=\"https://colab.research.google.com/assets/colab-badge.svg\" alt=\"Open In Colab\"/></a>"
      ]
    },
    {
      "cell_type": "markdown",
      "source": [
        "Format Method .format()"
      ],
      "metadata": {
        "id": "yQpOt__wLgDI"
      }
    },
    {
      "cell_type": "code",
      "execution_count": null,
      "metadata": {
        "colab": {
          "base_uri": "https://localhost:8080/",
          "height": 35
        },
        "id": "3dAIJxuwIk75",
        "outputId": "0304e531-bdc6-4e6f-e6d7-0776b493a6f9"
      },
      "outputs": [
        {
          "output_type": "execute_result",
          "data": {
            "text/plain": [
              "'Role: Data Analyst'"
            ],
            "application/vnd.google.colaboratory.intrinsic+json": {
              "type": "string"
            }
          },
          "metadata": {},
          "execution_count": 2
        }
      ],
      "source": [
        "role = 'Data Analyst'\n",
        "skill = 'Python'\n",
        "\n",
        "\"Role: {}\".format(role)\n"
      ]
    },
    {
      "cell_type": "code",
      "source": [
        "\"Role: {}; Skill Required: {}\".format(role, skill)"
      ],
      "metadata": {
        "colab": {
          "base_uri": "https://localhost:8080/",
          "height": 35
        },
        "id": "JKUwbfLHLAKT",
        "outputId": "e7f590a9-a0f5-4de7-ff0d-49336dd8644b"
      },
      "execution_count": null,
      "outputs": [
        {
          "output_type": "execute_result",
          "data": {
            "text/plain": [
              "'Role: Data Analyst; Skill Required: Python'"
            ],
            "application/vnd.google.colaboratory.intrinsic+json": {
              "type": "string"
            }
          },
          "metadata": {},
          "execution_count": 4
        }
      ]
    },
    {
      "cell_type": "markdown",
      "source": [
        "f-Strings-Formatted String Literals"
      ],
      "metadata": {
        "id": "fNOhSHPZMBNP"
      }
    },
    {
      "cell_type": "code",
      "source": [
        "role = \"Data Analyst\"\n",
        "skill = \"Python\"\n",
        "\n",
        "f\"Role: {role}; Skill Required: {skill}\""
      ],
      "metadata": {
        "colab": {
          "base_uri": "https://localhost:8080/",
          "height": 35
        },
        "id": "rGy8QN80MF1Z",
        "outputId": "8ff34860-c9b8-485a-e28b-1fabcc979e79"
      },
      "execution_count": null,
      "outputs": [
        {
          "output_type": "execute_result",
          "data": {
            "text/plain": [
              "'Role: Data Analyst; Skill Required: Python'"
            ],
            "application/vnd.google.colaboratory.intrinsic+json": {
              "type": "string"
            }
          },
          "metadata": {},
          "execution_count": 5
        }
      ]
    },
    {
      "cell_type": "markdown",
      "source": [
        "%-formatting (printf-style string formatting)"
      ],
      "metadata": {
        "id": "KsmU-i_CM9wT"
      }
    },
    {
      "cell_type": "code",
      "source": [
        "\"Role: %s; Skill Required: %s\" % (role, skill)"
      ],
      "metadata": {
        "colab": {
          "base_uri": "https://localhost:8080/",
          "height": 35
        },
        "id": "YZb2VFwgNC9C",
        "outputId": "9092b682-f10a-4d74-f428-594df4a6c8cd"
      },
      "execution_count": null,
      "outputs": [
        {
          "output_type": "execute_result",
          "data": {
            "text/plain": [
              "'Role: Data Analyst; Skill Required: Python'"
            ],
            "application/vnd.google.colaboratory.intrinsic+json": {
              "type": "string"
            }
          },
          "metadata": {},
          "execution_count": 6
        }
      ]
    },
    {
      "cell_type": "markdown",
      "source": [
        "join() Method"
      ],
      "metadata": {
        "id": "xT4MrQAmNbrg"
      }
    },
    {
      "cell_type": "code",
      "source": [
        "years_experience = '0123456789'\n",
        "\n",
        "', '.join(years_experience)"
      ],
      "metadata": {
        "colab": {
          "base_uri": "https://localhost:8080/",
          "height": 35
        },
        "id": "qtDbS8KCNgFu",
        "outputId": "30d531ca-112a-4226-fba1-61aefb86a13e"
      },
      "execution_count": null,
      "outputs": [
        {
          "output_type": "execute_result",
          "data": {
            "text/plain": [
              "'0, 1, 2, 3, 4, 5, 6, 7, 8, 9'"
            ],
            "application/vnd.google.colaboratory.intrinsic+json": {
              "type": "string"
            }
          },
          "metadata": {},
          "execution_count": 7
        }
      ]
    }
  ]
}