{
  "nbformat": 4,
  "nbformat_minor": 0,
  "metadata": {
    "colab": {
      "provenance": [],
      "authorship_tag": "ABX9TyNFhAwJdVWd9WsTR1THrNoN",
      "include_colab_link": true
    },
    "kernelspec": {
      "name": "python3",
      "display_name": "Python 3"
    },
    "language_info": {
      "name": "python"
    }
  },
  "cells": [
    {
      "cell_type": "markdown",
      "metadata": {
        "id": "view-in-github",
        "colab_type": "text"
      },
      "source": [
        "<a href=\"https://colab.research.google.com/github/whatever1262/collab_notebook/blob/main/Python_Terms.ipynb\" target=\"_parent\"><img src=\"https://colab.research.google.com/assets/colab-badge.svg\" alt=\"Open In Colab\"/></a>"
      ]
    },
    {
      "cell_type": "markdown",
      "source": [
        "**Python Terms**\n",
        "\n",
        "- Object\n",
        "- Variable\n",
        "- Function\n",
        "- Class\n",
        "- Method\n",
        "- Attribute"
      ],
      "metadata": {
        "id": "2yTEgI1Te_y6"
      }
    },
    {
      "cell_type": "code",
      "source": [
        ""
      ],
      "metadata": {
        "id": "HE44Cse2s10_"
      },
      "execution_count": null,
      "outputs": []
    },
    {
      "cell_type": "markdown",
      "source": [
        "Objects: The data records\n",
        "\n",
        "In data analytics, an object is like a record in your spreadsheet. Each record can have multiple fields, such as job title, location, and salary.\n",
        "\n",
        "**Object:** A data record with fields; an instance of a class."
      ],
      "metadata": {
        "id": "ybFnvIe-rZTR"
      }
    },
    {
      "cell_type": "code",
      "source": [
        "\"Data Analyst\" # this a an object\n",
        "\"1262\" # also an object"
      ],
      "metadata": {
        "id": "unyYB4Y9fPwy",
        "colab": {
          "base_uri": "https://localhost:8080/",
          "height": 35
        },
        "outputId": "5712e3bd-64fb-4b36-82bd-a4cf9955f29e"
      },
      "execution_count": 25,
      "outputs": [
        {
          "output_type": "execute_result",
          "data": {
            "text/plain": [
              "'1262'"
            ],
            "application/vnd.google.colaboratory.intrinsic+json": {
              "type": "string"
            }
          },
          "metadata": {},
          "execution_count": 25
        }
      ]
    },
    {
      "cell_type": "markdown",
      "source": [
        "**Variables: The Reference to Objects**\n",
        "\n",
        "Think of a variable as a cell in an Excel spreadsheet. You can store data in it, like a number, text, or a formula.\n",
        "\n",
        "**Variable**: A defined name that references an object."
      ],
      "metadata": {
        "id": "90Q8A2mUuKoP"
      }
    },
    {
      "cell_type": "code",
      "source": [
        "job_title = \"Data Analyst\"\n",
        "job_salary = 12000\n",
        "my_print_function = print"
      ],
      "metadata": {
        "id": "wMz9xuWqv2MD"
      },
      "execution_count": 7,
      "outputs": []
    },
    {
      "cell_type": "code",
      "source": [
        "my_print_function(job_title, job_salary)"
      ],
      "metadata": {
        "colab": {
          "base_uri": "https://localhost:8080/"
        },
        "id": "EE_ACDiCwJ9i",
        "outputId": "a38bccb7-03f9-4b8c-c3f5-41401685f58e"
      },
      "execution_count": 8,
      "outputs": [
        {
          "output_type": "stream",
          "name": "stdout",
          "text": [
            "Data Analyst 12000\n"
          ]
        }
      ]
    },
    {
      "cell_type": "code",
      "source": [
        "#each varible has a unique identifier\n",
        "id(job_title), id(job_salary), id(my_print_function),"
      ],
      "metadata": {
        "colab": {
          "base_uri": "https://localhost:8080/"
        },
        "id": "vkXrU4P4y1JW",
        "outputId": "538cf34d-b484-4e5f-ea00-bb1819ce3db7"
      },
      "execution_count": 9,
      "outputs": [
        {
          "output_type": "execute_result",
          "data": {
            "text/plain": [
              "(136913997551088, 136914618457776, 136915051222320)"
            ]
          },
          "metadata": {},
          "execution_count": 9
        }
      ]
    },
    {
      "cell_type": "markdown",
      "source": [
        "However, variable that may look the same, but reference difference objects are... different."
      ],
      "metadata": {
        "id": "UjvwUb5z0XH2"
      }
    },
    {
      "cell_type": "code",
      "source": [
        "job_title1 = \"Data Analyst\"\n",
        "job_title2 = \"Data Analyst\"\n",
        "\n",
        "#the id of the same object is the same\n",
        "id(job_title1), id(job_title2)"
      ],
      "metadata": {
        "colab": {
          "base_uri": "https://localhost:8080/"
        },
        "id": "y7iuNcom0jfM",
        "outputId": "ed7e48c3-d685-4fbe-df40-136cf6ceb73b"
      },
      "execution_count": 10,
      "outputs": [
        {
          "output_type": "execute_result",
          "data": {
            "text/plain": [
              "(136913997909680, 136913997908720)"
            ]
          },
          "metadata": {},
          "execution_count": 10
        }
      ]
    },
    {
      "cell_type": "markdown",
      "source": [
        "**Functions: The Manipulators of Objects**\n",
        "\n",
        "Functions are like custom formulas in Excel.\n",
        "\n",
        "**Function:** A reusable piece of code that performs a specific task.\n",
        "\n",
        "The print() we saw already is a function."
      ],
      "metadata": {
        "id": "Vk21oMt10tMq"
      }
    },
    {
      "cell_type": "code",
      "source": [
        "#provide functions arguments to print in parenthesis\n",
        "print(\"What's up, Data Nerds!\")"
      ],
      "metadata": {
        "colab": {
          "base_uri": "https://localhost:8080/"
        },
        "id": "E53I0tMv10aw",
        "outputId": "b3743e24-69e9-4773-87eb-2ca1e3b3430b"
      },
      "execution_count": 11,
      "outputs": [
        {
          "output_type": "stream",
          "name": "stdout",
          "text": [
            "What's up, Data Nerds!\n"
          ]
        }
      ]
    },
    {
      "cell_type": "code",
      "source": [
        "# I could make this into a function:\n",
        "def greet():\n",
        "  return \"What's up, Data Nerds!\""
      ],
      "metadata": {
        "id": "YR35zHZW2EI1"
      },
      "execution_count": 12,
      "outputs": []
    },
    {
      "cell_type": "code",
      "source": [
        "greet()"
      ],
      "metadata": {
        "colab": {
          "base_uri": "https://localhost:8080/",
          "height": 35
        },
        "id": "5RWL7y_d2M8i",
        "outputId": "aa8e89a9-ce7d-4969-8e43-28d4696c87fb"
      },
      "execution_count": 13,
      "outputs": [
        {
          "output_type": "execute_result",
          "data": {
            "text/plain": [
              "\"What's up, Data Nerds!\""
            ],
            "application/vnd.google.colaboratory.intrinsic+json": {
              "type": "string"
            }
          },
          "metadata": {},
          "execution_count": 13
        }
      ]
    },
    {
      "cell_type": "code",
      "source": [
        "# Here's a custom built function that prints our job info nicely:\n",
        "def display_info(title, location, salary):\n",
        "  return print(f\"Job Title: {title}\\nLocation: {location}\\nSalary: {salary}\")"
      ],
      "metadata": {
        "id": "Yv8U6wvm2SS-"
      },
      "execution_count": 14,
      "outputs": []
    },
    {
      "cell_type": "code",
      "source": [
        "job_title = \"Data Analyst\"\n",
        "job_location = \"San Francisco\"\n",
        "job_salary = 12000\n",
        "\n",
        "display_info(job_title, job_location, job_salary)"
      ],
      "metadata": {
        "colab": {
          "base_uri": "https://localhost:8080/"
        },
        "id": "d7FKSZtO2k6o",
        "outputId": "f5c68878-21cf-422d-91f9-ff25afb3c6a4"
      },
      "execution_count": 15,
      "outputs": [
        {
          "output_type": "stream",
          "name": "stdout",
          "text": [
            "Job Title: Data Analyst\n",
            "Location: San Francisco\n",
            "Salary: 12000\n"
          ]
        }
      ]
    },
    {
      "cell_type": "markdown",
      "source": [
        "**Classes: The Template of Objects**\n",
        "\n",
        "A class is like a template for your records in Excel. It defines the fields that each record will have.\n",
        "\n",
        "**Class:** A template for creating objects (records)."
      ],
      "metadata": {
        "id": "j2eetPTr2r4a"
      }
    },
    {
      "cell_type": "code",
      "source": [
        "class JobPost:\n",
        "  def __init__(self, title, location, salary):\n",
        "    self.title = title\n",
        "    self.location = location\n",
        "    self.salary = salary\n",
        "\n",
        "  def display_info(self):\n",
        "    return print(f\"Job Title: {self.title}\\nLocation: {self.location}\\nSalary: {self.salary}\")"
      ],
      "metadata": {
        "id": "u7zafdXB3Dlv"
      },
      "execution_count": 16,
      "outputs": []
    },
    {
      "cell_type": "code",
      "source": [
        "JobPost"
      ],
      "metadata": {
        "colab": {
          "base_uri": "https://localhost:8080/",
          "height": 104
        },
        "id": "eMH-5ts-3R5H",
        "outputId": "a2ec76e7-36b8-44a5-a2f7-d7ac2758acc6"
      },
      "execution_count": 17,
      "outputs": [
        {
          "output_type": "execute_result",
          "data": {
            "text/plain": [
              "__main__.JobPost"
            ],
            "text/html": [
              "<div style=\"max-width:800px; border: 1px solid var(--colab-border-color);\"><style>\n",
              "      pre.function-repr-contents {\n",
              "        overflow-x: auto;\n",
              "        padding: 8px 12px;\n",
              "        max-height: 500px;\n",
              "      }\n",
              "\n",
              "      pre.function-repr-contents.function-repr-contents-collapsed {\n",
              "        cursor: pointer;\n",
              "        max-height: 100px;\n",
              "      }\n",
              "    </style>\n",
              "    <pre style=\"white-space: initial; background:\n",
              "         var(--colab-secondary-surface-color); padding: 8px 12px;\n",
              "         border-bottom: 1px solid var(--colab-border-color);\"><b>JobPost</b><br/>def __init__(title, location, salary)</pre><pre class=\"function-repr-contents function-repr-contents-collapsed\" style=\"\"><a class=\"filepath\" style=\"display:none\" href=\"#\"></a>&lt;no docstring&gt;</pre></div>"
            ]
          },
          "metadata": {},
          "execution_count": 17
        }
      ]
    },
    {
      "cell_type": "markdown",
      "source": [
        "Attributes: The Variables of an Object\n",
        "\n",
        "Attributes are like the columns in your spreadsheet. Each attribute stores specific data for each record.\n",
        "\n",
        "**Attribute:** a field in a record, defined by its class."
      ],
      "metadata": {
        "id": "nSav5ztp4-Tj"
      }
    },
    {
      "cell_type": "code",
      "source": [
        "class JobPost:\n",
        "  def __init__(self, title, location, salary):\n",
        "    self.title = title  #Attribute\n",
        "    self.location = location\n",
        "    self.salary = salary\n",
        "\n",
        "  def display_info(self):\n",
        "    return print(f\"Job Title: {self.title}\\nLocation: {self.location}\\nSalary: {self.salary}\")"
      ],
      "metadata": {
        "id": "-8mNZaZh73x4"
      },
      "execution_count": 18,
      "outputs": []
    },
    {
      "cell_type": "code",
      "source": [
        "job = JobPost(\"Data Analyst\", \"San Francisco\", 12000)"
      ],
      "metadata": {
        "id": "Bf5QIHeg8XCa"
      },
      "execution_count": 19,
      "outputs": []
    },
    {
      "cell_type": "code",
      "source": [
        "job.title"
      ],
      "metadata": {
        "colab": {
          "base_uri": "https://localhost:8080/",
          "height": 35
        },
        "id": "Dfd6phjg8arU",
        "outputId": "64af96dd-365f-4239-da36-24c71b9fbeb5"
      },
      "execution_count": 20,
      "outputs": [
        {
          "output_type": "execute_result",
          "data": {
            "text/plain": [
              "'Data Analyst'"
            ],
            "application/vnd.google.colaboratory.intrinsic+json": {
              "type": "string"
            }
          },
          "metadata": {},
          "execution_count": 20
        }
      ]
    },
    {
      "cell_type": "code",
      "source": [
        "display_info(job.title, job.location, job.salary)"
      ],
      "metadata": {
        "colab": {
          "base_uri": "https://localhost:8080/"
        },
        "id": "ek5p3Qpk-J_Q",
        "outputId": "6413a711-6325-4231-9fea-6f9b28147c9b"
      },
      "execution_count": 22,
      "outputs": [
        {
          "output_type": "stream",
          "name": "stdout",
          "text": [
            "Job Title: Data Analyst\n",
            "Location: San Francisco\n",
            "Salary: 12000\n"
          ]
        }
      ]
    },
    {
      "cell_type": "markdown",
      "source": [
        "**Methods: The Functions of an Object**\n",
        "Methods are like the built-in functions in Excel that operate on your records. They define actions that the records can perform.\n",
        "\n",
        "**Method:** A function defined inside a class that operates on its objects."
      ],
      "metadata": {
        "id": "TCQaJu0P-bFc"
      }
    },
    {
      "cell_type": "code",
      "source": [
        "job = JobPost(\"Data Engineer\", \"Phnon Penh\", 15000)\n",
        "job.display_info()"
      ],
      "metadata": {
        "colab": {
          "base_uri": "https://localhost:8080/"
        },
        "id": "hPMYu0sw-OZn",
        "outputId": "8b8503c7-70ae-4c1a-9397-3f088ad9c38f"
      },
      "execution_count": 24,
      "outputs": [
        {
          "output_type": "stream",
          "name": "stdout",
          "text": [
            "Job Title: Data Engineer\n",
            "Location: Phnon Penh\n",
            "Salary: 15000\n"
          ]
        }
      ]
    }
  ]
}